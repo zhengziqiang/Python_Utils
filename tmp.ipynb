{
 "cells": [
  {
   "cell_type": "code",
   "execution_count": 3,
   "metadata": {
    "collapsed": true
   },
   "outputs": [],
   "source": [
    "from PIL import Image\n",
    "img=Image.open(\"F:\\\\acess_ieee\\\\jinna-acess-exp\\\\layer\\\\test\\\\387.jpg\")\n",
    "l=img.crop((0,0,256,256))\n",
    "# crop=img.crop((0,0,512,256))\n",
    "r=img.crop((256,0,512,256))\n",
    "l.save(\"F:\\\\acess_ieee\\\\jinna-acess-exp\\\\layer\\\\test\\\\387_left.png\")\n",
    "r.save(\"F:\\\\acess_ieee\\\\jinna-acess-exp\\\\layer\\\\test\\\\387_right.png\")"
   ]
  },
  {
   "cell_type": "code",
   "execution_count": 4,
   "metadata": {},
   "outputs": [],
   "source": [
    "import numpy as np\n",
    "ones=np.ones([2,3])\n",
    "gram = np.matmul(ones.T, ones) / ones.size"
   ]
  },
  {
   "cell_type": "code",
   "execution_count": 5,
   "metadata": {},
   "outputs": [
    {
     "name": "stdout",
     "output_type": "stream",
     "text": [
      "[[ 0.33333333  0.33333333  0.33333333]\n [ 0.33333333  0.33333333  0.33333333]\n [ 0.33333333  0.33333333  0.33333333]]\n"
     ]
    }
   ],
   "source": [
    "print(gram)"
   ]
  },
  {
   "cell_type": "code",
   "execution_count": 6,
   "metadata": {},
   "outputs": [
    {
     "name": "stdout",
     "output_type": "stream",
     "text": [
      "[[ 2.  2.  2.]\n [ 2.  2.  2.]\n [ 2.  2.  2.]]\n"
     ]
    }
   ],
   "source": [
    "print(np.matmul(ones.T, ones))"
   ]
  },
  {
   "cell_type": "code",
   "execution_count": null,
   "metadata": {},
   "outputs": [],
   "source": [
    ""
   ]
  }
 ],
 "metadata": {
  "kernelspec": {
   "display_name": "Python 2",
   "language": "python",
   "name": "python2"
  },
  "language_info": {
   "codemirror_mode": {
    "name": "ipython",
    "version": 2.0
   },
   "file_extension": ".py",
   "mimetype": "text/x-python",
   "name": "python",
   "nbconvert_exporter": "python",
   "pygments_lexer": "ipython2",
   "version": "2.7.6"
  }
 },
 "nbformat": 4,
 "nbformat_minor": 0
}